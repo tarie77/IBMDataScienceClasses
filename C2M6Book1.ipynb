{
 "cells": [
  {
   "cell_type": "markdown",
   "id": "0178f43c-63d1-4f43-ae00-a012a46e1832",
   "metadata": {},
   "source": [
    "# Tarie's Jupybook"
   ]
  },
  {
   "cell_type": "markdown",
   "id": "f51f5d55-c7ce-41f1-b6ee-64c49d2f19e7",
   "metadata": {},
   "source": [
    "# Introduction\n",
    "\n",
    "Welcome to my Jupyter Notebook! In this notebook, I will explore various Python programming concepts and demonstrate how to use JupyterLab effectively. This exercise serves as an introduction to using markdown for creating well-structured and readable documents. Let's get started!"
   ]
  },
  {
   "cell_type": "markdown",
   "id": "5fca5b88-e48f-4800-9ec8-e48198df8544",
   "metadata": {},
   "source": [
    "# Data Science Languages\n",
    "\n",
    "Below is a list of popular languages used in data science:\n",
    "\n",
    "- **Python**: Widely used for data analysis, machine learning, and visualization.\n",
    "- **R**: A statistical programming language with powerful data analysis packages.\n",
    "- **SQL**: Essential for querying and managing relational databases.\n",
    "- **Julia**: Known for high-performance numerical analysis and computational science.\n",
    "- **Scala**: Often used with Apache Spark for big data processing."
   ]
  },
  {
   "cell_type": "markdown",
   "id": "5de70818-faaf-4606-bcdf-057df980836e",
   "metadata": {},
   "source": [
    "# Data Science Libraries\n",
    "\n",
    "Below is a list of popular libraries commonly used in data science:\n",
    "\n",
    "- **NumPy**: Provides support for large, multi-dimensional arrays and matrices, along with a collection of mathematical functions to operate on them.\n",
    "- **Pandas**: Offers data structures and operations for manipulating numerical tables and time series.\n",
    "- **Matplotlib**: A plotting library for creating static, animated, and interactive visualizations.\n",
    "- **Seaborn**: Built on top of Matplotlib, it simplifies the creation of attractive and informative statistical graphics.\n",
    "- **Scikit-learn**: A machine learning library that includes simple and efficient tools for data mining and data analysis.\n",
    "- **TensorFlow**: An open-source platform for machine learning, particularly well-suited for deep learning.\n",
    "- **PyTorch**: A deep learning framework that provides a flexible and intuitive approach to building neural networks.\n"
   ]
  },
  {
   "cell_type": "markdown",
   "id": "6f8cc854-42d3-4208-a468-102ff7ffdfc7",
   "metadata": {},
   "source": [
    "# Data Science Tools\n",
    "\n",
    "Below is a table listing some popular data science tools along with a brief description of each:\n",
    "\n",
    "| Data Science Tool  | Description                                                                                 |\n",
    "|--------------------|---------------------------------------------------------------------------------------------|\n",
    "| Jupyter Notebook   | An interactive environment for creating and sharing live code, visualizations, and narrative. |\n",
    "| RStudio            | An integrated development environment (IDE) for the R programming language.                  |\n",
    "| Google Colab       | A cloud-based Jupyter Notebook service with free access to GPUs for computation.             |\n",
    "| Tableau            | A powerful tool for data visualization and creating interactive dashboards.                |\n",
    "| Power BI           | A business analytics tool by Microsoft for visualizing and sharing insights from data.         |\n"
   ]
  },
  {
   "cell_type": "markdown",
   "id": "1d683744-5b64-468a-8e8a-2baf07977f2f",
   "metadata": {},
   "source": [
    "# Arithmetic Expression Examples\n",
    "\n",
    "In this section, we explore several basic arithmetic expressions in Python. These operations are fundamental for performing calculations and data analysis.\n",
    "\n",
    "- **Addition:** `3 + 5` results in `8`\n",
    "- **Subtraction:** `10 - 2` results in `8`\n",
    "- **Multiplication:** `4 * 2` results in `8`\n",
    "- **Division:** `16 / 2` results in `8`\n",
    "- **Exponentiation:** `2 ** 3` results in `8`"
   ]
  },
  {
   "cell_type": "code",
   "execution_count": 1,
   "id": "127fabbc-febd-4b3f-a007-965013f378c2",
   "metadata": {},
   "outputs": [
    {
     "name": "stdout",
     "output_type": "stream",
     "text": [
      "Product: 15\n",
      "Summation: 30\n",
      "Combined Result: 45\n"
     ]
    }
   ],
   "source": [
    "# Multiply two numbers\n",
    "product = 5 * 3  # 5 multiplied by 3 equals 15\n",
    "\n",
    "# Add two numbers\n",
    "summation = 10 + 20  # 10 plus 20 equals 30\n",
    "\n",
    "# Combined arithmetic expression:\n",
    "combined_result = product + summation  # Adding the product and the summation\n",
    "\n",
    "print(\"Product:\", product)\n",
    "print(\"Summation:\", summation)\n",
    "print(\"Combined Result:\", combined_result)"
   ]
  },
  {
   "cell_type": "code",
   "execution_count": 2,
   "id": "32eeac8e-fda2-4b3e-b4a4-261ea5136ed0",
   "metadata": {},
   "outputs": [
    {
     "name": "stdout",
     "output_type": "stream",
     "text": [
      "150 minutes is equal to 2.5 hours.\n"
     ]
    }
   ],
   "source": [
    "# Define the number of minutes\n",
    "minutes = 150  # you can change this value to test with different minutes\n",
    "\n",
    "# Convert minutes to hours\n",
    "hours = minutes / 60\n",
    "\n",
    "# Print the result\n",
    "print(f\"{minutes} minutes is equal to {hours} hours.\")"
   ]
  },
  {
   "cell_type": "markdown",
   "id": "d87f78ac-deb1-4dfb-ac2f-7af288e49be5",
   "metadata": {},
   "source": [
    "# Objectives\n",
    "\n",
    "- **Familiarize with Jupyter Notebook:** Learn how to create and use markdown and code cells.\n",
    "- **Practice Markdown Skills:** Demonstrate the ability to format text, lists, and tables.\n",
    "- **Apply Basic Python Concepts:** Use code cells to perform arithmetic operations and data conversions."
   ]
  },
  {
   "cell_type": "markdown",
   "id": "22412400-83a3-481d-b58b-ec1c41fa5374",
   "metadata": {},
   "source": [
    "# Hi, my name is Tarie Nosworthy"
   ]
  },
  {
   "cell_type": "code",
   "execution_count": null,
   "id": "bfb3ef05-8465-480c-a2fc-c2a83ea077cb",
   "metadata": {},
   "outputs": [],
   "source": []
  }
 ],
 "metadata": {
  "kernelspec": {
   "display_name": "Python 3 (ipykernel)",
   "language": "python",
   "name": "python3"
  },
  "language_info": {
   "codemirror_mode": {
    "name": "ipython",
    "version": 3
   },
   "file_extension": ".py",
   "mimetype": "text/x-python",
   "name": "python",
   "nbconvert_exporter": "python",
   "pygments_lexer": "ipython3",
   "version": "3.13.2"
  }
 },
 "nbformat": 4,
 "nbformat_minor": 5
}
